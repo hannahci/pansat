{
 "cells": [
  {
   "cell_type": "markdown",
   "metadata": {},
   "source": [
    "# IGRA\n",
    "\n",
    "\n",
    "Download data from the **Integrated Global Radiosonde Archive (IGRA)**: https://www.ncdc.noaa.gov/data-access/weather-balloon/integrated-global-radiosonde-archive"
   ]
  },
  {
   "cell_type": "code",
   "execution_count": 1,
   "metadata": {},
   "outputs": [],
   "source": [
    "from pansat.products.stations import igra"
   ]
  },
  {
   "cell_type": "markdown",
   "metadata": {},
   "source": [
    "## Per station \n",
    "\n",
    "For the download for a specific station, select the station name or look for the closest station to a location[lat,lon]. \n",
    "\n"
   ]
  },
  {
   "cell_type": "code",
   "execution_count": 2,
   "metadata": {},
   "outputs": [],
   "source": [
    "# create product instance for station location (finds closest station to [lat,lon])\n",
    "radiosounding = igra.IGRASoundings(location=[35,105])"
   ]
  },
  {
   "cell_type": "code",
   "execution_count": 5,
   "metadata": {},
   "outputs": [
    {
     "data": {
      "text/html": [
       "<div>\n",
       "<style scoped>\n",
       "    .dataframe tbody tr th:only-of-type {\n",
       "        vertical-align: middle;\n",
       "    }\n",
       "\n",
       "    .dataframe tbody tr th {\n",
       "        vertical-align: top;\n",
       "    }\n",
       "\n",
       "    .dataframe thead th {\n",
       "        text-align: right;\n",
       "    }\n",
       "</style>\n",
       "<table border=\"1\" class=\"dataframe\">\n",
       "  <thead>\n",
       "    <tr style=\"text-align: right;\">\n",
       "      <th></th>\n",
       "      <th>ID</th>\n",
       "      <th>lat</th>\n",
       "      <th>lon</th>\n",
       "      <th>elevation [m]</th>\n",
       "      <th>name</th>\n",
       "      <th>start year</th>\n",
       "      <th>end year</th>\n",
       "      <th># soundings in record</th>\n",
       "    </tr>\n",
       "  </thead>\n",
       "  <tbody>\n",
       "    <tr>\n",
       "      <th>553</th>\n",
       "      <td>CHM00057006</td>\n",
       "      <td>34.583</td>\n",
       "      <td>105.75</td>\n",
       "      <td>1143.0</td>\n",
       "      <td>TIANSHUI</td>\n",
       "      <td>1973</td>\n",
       "      <td>1987</td>\n",
       "      <td>6899</td>\n",
       "    </tr>\n",
       "  </tbody>\n",
       "</table>\n",
       "</div>"
      ],
      "text/plain": [
       "              ID     lat     lon  elevation [m]      name  start year  \\\n",
       "553  CHM00057006  34.583  105.75         1143.0  TIANSHUI        1973   \n",
       "\n",
       "     end year  # soundings in record  \n",
       "553      1987                   6899  "
      ]
     },
     "execution_count": 5,
     "metadata": {},
     "output_type": "execute_result"
    }
   ],
   "source": [
    "# have a look at the meta data from the station \n",
    "stations= radiosounding.get_metadata(station=True)\n",
    "stations"
   ]
  },
  {
   "cell_type": "code",
   "execution_count": 11,
   "metadata": {},
   "outputs": [],
   "source": [
    "# download all data for station by name \n",
    "radiosounding = igra.IGRASoundings('ABU DHABI INTERNATIONAL AIRPOR')\n",
    "file = radiosounding.download()"
   ]
  },
  {
   "cell_type": "markdown",
   "metadata": {},
   "source": [
    "## Per variable (monthly, all stations)\n",
    "\n",
    "To download data from all stations, choose a variable to download. This data will come as \n",
    "monthly means in two separate files for day and night (00:00 UTC and 12:00 UTC). "
   ]
  },
  {
   "cell_type": "code",
   "execution_count": 2,
   "metadata": {},
   "outputs": [
    {
     "name": "stdout",
     "output_type": "stream",
     "text": [
      "Please enter your pansat user password:\n",
      "········\n"
     ]
    }
   ],
   "source": [
    "radiosounding = igra.IGRASoundings(variable = 'temp')"
   ]
  },
  {
   "cell_type": "code",
   "execution_count": 3,
   "metadata": {},
   "outputs": [],
   "source": [
    "# download only recent month\n",
    "files = radiosounding.download('recent')"
   ]
  },
  {
   "cell_type": "markdown",
   "metadata": {},
   "source": [
    "## Open and plot data "
   ]
  },
  {
   "cell_type": "code",
   "execution_count": 4,
   "metadata": {},
   "outputs": [
    {
     "data": {
      "text/html": [
       "<div>\n",
       "<style scoped>\n",
       "    .dataframe tbody tr th:only-of-type {\n",
       "        vertical-align: middle;\n",
       "    }\n",
       "\n",
       "    .dataframe tbody tr th {\n",
       "        vertical-align: top;\n",
       "    }\n",
       "\n",
       "    .dataframe thead th {\n",
       "        text-align: right;\n",
       "    }\n",
       "</style>\n",
       "<table border=\"1\" class=\"dataframe\">\n",
       "  <thead>\n",
       "    <tr style=\"text-align: right;\">\n",
       "      <th></th>\n",
       "      <th>Station</th>\n",
       "      <th>Year</th>\n",
       "      <th>Month</th>\n",
       "      <th>Level [hPa]</th>\n",
       "      <th>Value [$^\\circ$C/10, m s$^{-1}$ or Pa]</th>\n",
       "      <th>Num</th>\n",
       "    </tr>\n",
       "  </thead>\n",
       "  <tbody>\n",
       "    <tr>\n",
       "      <th>0</th>\n",
       "      <td>AEM00041217</td>\n",
       "      <td>2020</td>\n",
       "      <td>12</td>\n",
       "      <td>1000</td>\n",
       "      <td>212</td>\n",
       "      <td>31</td>\n",
       "    </tr>\n",
       "    <tr>\n",
       "      <th>1</th>\n",
       "      <td>AEM00041217</td>\n",
       "      <td>2020</td>\n",
       "      <td>12</td>\n",
       "      <td>925</td>\n",
       "      <td>164</td>\n",
       "      <td>31</td>\n",
       "    </tr>\n",
       "    <tr>\n",
       "      <th>2</th>\n",
       "      <td>AEM00041217</td>\n",
       "      <td>2020</td>\n",
       "      <td>12</td>\n",
       "      <td>850</td>\n",
       "      <td>130</td>\n",
       "      <td>31</td>\n",
       "    </tr>\n",
       "    <tr>\n",
       "      <th>3</th>\n",
       "      <td>AEM00041217</td>\n",
       "      <td>2020</td>\n",
       "      <td>12</td>\n",
       "      <td>700</td>\n",
       "      <td>54</td>\n",
       "      <td>31</td>\n",
       "    </tr>\n",
       "    <tr>\n",
       "      <th>4</th>\n",
       "      <td>AEM00041217</td>\n",
       "      <td>2020</td>\n",
       "      <td>12</td>\n",
       "      <td>500</td>\n",
       "      <td>-101</td>\n",
       "      <td>31</td>\n",
       "    </tr>\n",
       "    <tr>\n",
       "      <th>...</th>\n",
       "      <td>...</td>\n",
       "      <td>...</td>\n",
       "      <td>...</td>\n",
       "      <td>...</td>\n",
       "      <td>...</td>\n",
       "      <td>...</td>\n",
       "    </tr>\n",
       "    <tr>\n",
       "      <th>9236</th>\n",
       "      <td>VMM00048900</td>\n",
       "      <td>2020</td>\n",
       "      <td>12</td>\n",
       "      <td>70</td>\n",
       "      <td>-741</td>\n",
       "      <td>29</td>\n",
       "    </tr>\n",
       "    <tr>\n",
       "      <th>9237</th>\n",
       "      <td>VMM00048900</td>\n",
       "      <td>2020</td>\n",
       "      <td>12</td>\n",
       "      <td>50</td>\n",
       "      <td>-667</td>\n",
       "      <td>29</td>\n",
       "    </tr>\n",
       "    <tr>\n",
       "      <th>9238</th>\n",
       "      <td>VMM00048900</td>\n",
       "      <td>2020</td>\n",
       "      <td>12</td>\n",
       "      <td>30</td>\n",
       "      <td>-603</td>\n",
       "      <td>29</td>\n",
       "    </tr>\n",
       "    <tr>\n",
       "      <th>9239</th>\n",
       "      <td>VMM00048900</td>\n",
       "      <td>2020</td>\n",
       "      <td>12</td>\n",
       "      <td>20</td>\n",
       "      <td>-537</td>\n",
       "      <td>29</td>\n",
       "    </tr>\n",
       "    <tr>\n",
       "      <th>9240</th>\n",
       "      <td>VMM00048900</td>\n",
       "      <td>2020</td>\n",
       "      <td>12</td>\n",
       "      <td>10</td>\n",
       "      <td>-462</td>\n",
       "      <td>28</td>\n",
       "    </tr>\n",
       "  </tbody>\n",
       "</table>\n",
       "<p>9241 rows × 6 columns</p>\n",
       "</div>"
      ],
      "text/plain": [
       "          Station  Year  Month  Level [hPa]  \\\n",
       "0     AEM00041217  2020     12         1000   \n",
       "1     AEM00041217  2020     12          925   \n",
       "2     AEM00041217  2020     12          850   \n",
       "3     AEM00041217  2020     12          700   \n",
       "4     AEM00041217  2020     12          500   \n",
       "...           ...   ...    ...          ...   \n",
       "9236  VMM00048900  2020     12           70   \n",
       "9237  VMM00048900  2020     12           50   \n",
       "9238  VMM00048900  2020     12           30   \n",
       "9239  VMM00048900  2020     12           20   \n",
       "9240  VMM00048900  2020     12           10   \n",
       "\n",
       "      Value [$^\\circ$C/10, m s$^{-1}$ or Pa]  Num  \n",
       "0                                        212   31  \n",
       "1                                        164   31  \n",
       "2                                        130   31  \n",
       "3                                         54   31  \n",
       "4                                       -101   31  \n",
       "...                                      ...  ...  \n",
       "9236                                    -741   29  \n",
       "9237                                    -667   29  \n",
       "9238                                    -603   29  \n",
       "9239                                    -537   29  \n",
       "9240                                    -462   28  \n",
       "\n",
       "[9241 rows x 6 columns]"
      ]
     },
     "execution_count": 4,
     "metadata": {},
     "output_type": "execute_result"
    }
   ],
   "source": [
    "# get data as pandas dataframe \n",
    "data00= radiosounding.open(files[0])\n",
    "data12= radiosounding.open(files[1])\n",
    "\n",
    "data00"
   ]
  },
  {
   "cell_type": "code",
   "execution_count": 9,
   "metadata": {},
   "outputs": [],
   "source": [
    "# choose a random station \n",
    "station = data00.Station.values[999]\n",
    "temp00 = data00[data00.Station == station]\n",
    "temp12 = data12[data12.Station == station]\n",
    "\n",
    "# get station name \n",
    "station_name= radiosounding.locations[radiosounding.locations.ID == station].name.values[0]"
   ]
  },
  {
   "cell_type": "code",
   "execution_count": 10,
   "metadata": {},
   "outputs": [
    {
     "data": {
      "image/png": "[encoded data removed]",
      "text/plain": [
       "<Figure size 720x504 with 1 Axes>"
      ]
     },
     "metadata": {
      "needs_background": "light"
     },
     "output_type": "display_data"
    }
   ],
   "source": [
    "import matplotlib.pyplot as plt \n",
    "plt.figure(figsize=(10,7))\n",
    "# plot temperature at specific station during two times a day\n",
    "pressure= temp00.iloc[:,3].values\n",
    "# set surface pressure to 1000 hPa \n",
    "pressure[pressure == 9999]= 1000\n",
    "\n",
    "plt.plot(temp00.iloc[:,4].values/10,pressure, label = '00:00 UTC')\n",
    "plt.plot(temp12.iloc[:,4].values/10,pressure, label ='12:00 UTC')\n",
    "plt.legend()\n",
    "\n",
    "plt.gca().invert_yaxis()\n",
    "plt.yscale('log')\n",
    "plt.yticks(temp00.iloc[:,3], temp00.iloc[:,3])\n",
    "plt.ylim(pressure.max(), pressure.min())\n",
    "plt.grid()\n",
    "\n",
    "# labels \n",
    "fs= 18\n",
    "plt.title(station_name + ' '+ str(temp00.Year.values[0]) + ' '+str(temp00.Month.values[0]),fontsize= fs) \n",
    "plt.xlabel('Air temperature [$^{\\circ}$C]', fontsize= fs)\n",
    "plt.ylabel('Air pressure [hPa]', fontsize= fs)\n",
    "plt.show()"
   ]
  }
 ],
 "metadata": {
  "kernelspec": {
   "display_name": "Python 3",
   "language": "python",
   "name": "python3"
  },
  "language_info": {
   "codemirror_mode": {
    "name": "ipython",
    "version": 3
   },
   "file_extension": ".py",
   "mimetype": "text/x-python",
   "name": "python",
   "nbconvert_exporter": "python",
   "pygments_lexer": "ipython3",
   "version": "3.6.11"
  }
 },
 "nbformat": 4,
 "nbformat_minor": 4
}
